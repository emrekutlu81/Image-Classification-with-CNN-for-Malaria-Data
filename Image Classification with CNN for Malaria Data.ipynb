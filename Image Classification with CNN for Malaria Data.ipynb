{
 "cells": [
  {
   "cell_type": "code",
   "execution_count": 1,
   "id": "0f8daf04",
   "metadata": {
    "scrolled": true
   },
   "outputs": [
    {
     "name": "stdout",
     "output_type": "stream",
     "text": [
      "Requirement already satisfied: fastai in c:\\users\\emrek\\anaconda3\\lib\\site-packages (2.7.9)\n",
      "Requirement already satisfied: pip in c:\\users\\emrek\\anaconda3\\lib\\site-packages (from fastai) (21.2.4)\n",
      "Requirement already satisfied: pyyaml in c:\\users\\emrek\\anaconda3\\lib\\site-packages (from fastai) (5.4.1)\n",
      "Requirement already satisfied: scipy in c:\\users\\emrek\\anaconda3\\lib\\site-packages (from fastai) (1.7.3)\n",
      "Requirement already satisfied: requests in c:\\users\\emrek\\anaconda3\\lib\\site-packages (from fastai) (2.27.1)\n",
      "Requirement already satisfied: pandas in c:\\users\\emrek\\anaconda3\\lib\\site-packages (from fastai) (1.4.2)\n",
      "Requirement already satisfied: scikit-learn in c:\\users\\emrek\\appdata\\roaming\\python\\python39\\site-packages (from fastai) (1.1.1)\n",
      "Requirement already satisfied: matplotlib in c:\\users\\emrek\\anaconda3\\lib\\site-packages (from fastai) (3.5.1)\n",
      "Requirement already satisfied: torch<1.14,>=1.7 in c:\\users\\emrek\\anaconda3\\lib\\site-packages (from fastai) (1.12.1)\n",
      "Requirement already satisfied: torchvision>=0.8.2 in c:\\users\\emrek\\anaconda3\\lib\\site-packages (from fastai) (0.13.1)\n",
      "Requirement already satisfied: fastprogress>=0.2.4 in c:\\users\\emrek\\anaconda3\\lib\\site-packages (from fastai) (1.0.3)\n",
      "Requirement already satisfied: pillow>6.0.0 in c:\\users\\emrek\\anaconda3\\lib\\site-packages (from fastai) (9.0.1)\n",
      "Requirement already satisfied: fastdownload<2,>=0.0.5 in c:\\users\\emrek\\anaconda3\\lib\\site-packages (from fastai) (0.0.7)\n",
      "Requirement already satisfied: spacy<4 in c:\\users\\emrek\\appdata\\roaming\\python\\python39\\site-packages (from fastai) (3.3.1)\n",
      "Requirement already satisfied: fastcore<1.6,>=1.4.5 in c:\\users\\emrek\\anaconda3\\lib\\site-packages (from fastai) (1.5.21)\n",
      "Requirement already satisfied: packaging in c:\\users\\emrek\\anaconda3\\lib\\site-packages (from fastai) (21.3)\n",
      "Requirement already satisfied: spacy-legacy<3.1.0,>=3.0.9 in c:\\users\\emrek\\appdata\\roaming\\python\\python39\\site-packages (from spacy<4->fastai) (3.0.9)\n",
      "Requirement already satisfied: thinc<8.1.0,>=8.0.14 in c:\\users\\emrek\\appdata\\roaming\\python\\python39\\site-packages (from spacy<4->fastai) (8.0.17)\n",
      "Requirement already satisfied: catalogue<2.1.0,>=2.0.6 in c:\\users\\emrek\\appdata\\roaming\\python\\python39\\site-packages (from spacy<4->fastai) (2.0.7)\n",
      "Requirement already satisfied: pathy>=0.3.5 in c:\\users\\emrek\\appdata\\roaming\\python\\python39\\site-packages (from spacy<4->fastai) (0.6.1)\n",
      "Requirement already satisfied: tqdm<5.0.0,>=4.38.0 in c:\\users\\emrek\\anaconda3\\lib\\site-packages (from spacy<4->fastai) (4.64.0)\n",
      "Requirement already satisfied: spacy-loggers<2.0.0,>=1.0.0 in c:\\users\\emrek\\appdata\\roaming\\python\\python39\\site-packages (from spacy<4->fastai) (1.0.2)\n",
      "Requirement already satisfied: typer<0.5.0,>=0.3.0 in c:\\users\\emrek\\appdata\\roaming\\python\\python39\\site-packages (from spacy<4->fastai) (0.4.1)\n",
      "Requirement already satisfied: murmurhash<1.1.0,>=0.28.0 in c:\\users\\emrek\\appdata\\roaming\\python\\python39\\site-packages (from spacy<4->fastai) (1.0.7)\n",
      "Requirement already satisfied: setuptools in c:\\users\\emrek\\anaconda3\\lib\\site-packages (from spacy<4->fastai) (61.2.0)\n",
      "Requirement already satisfied: pydantic!=1.8,!=1.8.1,<1.9.0,>=1.7.4 in c:\\users\\emrek\\appdata\\roaming\\python\\python39\\site-packages (from spacy<4->fastai) (1.8.2)\n",
      "Requirement already satisfied: srsly<3.0.0,>=2.4.3 in c:\\users\\emrek\\appdata\\roaming\\python\\python39\\site-packages (from spacy<4->fastai) (2.4.3)\n",
      "Requirement already satisfied: wasabi<1.1.0,>=0.9.1 in c:\\users\\emrek\\appdata\\roaming\\python\\python39\\site-packages (from spacy<4->fastai) (0.9.1)\n",
      "Requirement already satisfied: cymem<2.1.0,>=2.0.2 in c:\\users\\emrek\\appdata\\roaming\\python\\python39\\site-packages (from spacy<4->fastai) (2.0.6)\n",
      "Requirement already satisfied: jinja2 in c:\\users\\emrek\\anaconda3\\lib\\site-packages (from spacy<4->fastai) (3.0.1)\n",
      "Requirement already satisfied: numpy>=1.15.0 in c:\\users\\emrek\\anaconda3\\lib\\site-packages (from spacy<4->fastai) (1.21.5)\n",
      "Requirement already satisfied: preshed<3.1.0,>=3.0.2 in c:\\users\\emrek\\appdata\\roaming\\python\\python39\\site-packages (from spacy<4->fastai) (3.0.6)\n",
      "Requirement already satisfied: blis<0.8.0,>=0.4.0 in c:\\users\\emrek\\appdata\\roaming\\python\\python39\\site-packages (from spacy<4->fastai) (0.7.8)\n",
      "Requirement already satisfied: langcodes<4.0.0,>=3.2.0 in c:\\users\\emrek\\appdata\\roaming\\python\\python39\\site-packages (from spacy<4->fastai) (3.3.0)\n",
      "Requirement already satisfied: pyparsing!=3.0.5,>=2.0.2 in c:\\users\\emrek\\anaconda3\\lib\\site-packages (from packaging->fastai) (3.0.4)\n",
      "Requirement already satisfied: smart-open<6.0.0,>=5.0.0 in c:\\users\\emrek\\anaconda3\\lib\\site-packages (from pathy>=0.3.5->spacy<4->fastai) (5.1.0)\n",
      "Requirement already satisfied: typing-extensions>=3.7.4.3 in c:\\users\\emrek\\anaconda3\\lib\\site-packages (from pydantic!=1.8,!=1.8.1,<1.9.0,>=1.7.4->spacy<4->fastai) (4.1.1)\n",
      "Requirement already satisfied: idna<4,>=2.5 in c:\\users\\emrek\\anaconda3\\lib\\site-packages (from requests->fastai) (3.3)\n",
      "Requirement already satisfied: urllib3<1.27,>=1.21.1 in c:\\users\\emrek\\anaconda3\\lib\\site-packages (from requests->fastai) (1.26.9)\n",
      "Requirement already satisfied: certifi>=2017.4.17 in c:\\users\\emrek\\anaconda3\\lib\\site-packages (from requests->fastai) (2021.10.8)\n",
      "Requirement already satisfied: charset-normalizer~=2.0.0 in c:\\users\\emrek\\anaconda3\\lib\\site-packages (from requests->fastai) (2.0.4)\n",
      "Requirement already satisfied: colorama in c:\\users\\emrek\\anaconda3\\lib\\site-packages (from tqdm<5.0.0,>=4.38.0->spacy<4->fastai) (0.4.4)\n",
      "Requirement already satisfied: click<9.0.0,>=7.1.1 in c:\\users\\emrek\\anaconda3\\lib\\site-packages (from typer<0.5.0,>=0.3.0->spacy<4->fastai) (8.0.4)\n",
      "Requirement already satisfied: MarkupSafe>=2.0 in c:\\users\\emrek\\anaconda3\\lib\\site-packages (from jinja2->spacy<4->fastai) (2.0.1)\n",
      "Requirement already satisfied: python-dateutil>=2.7 in c:\\users\\emrek\\anaconda3\\lib\\site-packages (from matplotlib->fastai) (2.8.2)\n",
      "Requirement already satisfied: fonttools>=4.22.0 in c:\\users\\emrek\\anaconda3\\lib\\site-packages (from matplotlib->fastai) (4.25.0)\n",
      "Requirement already satisfied: cycler>=0.10 in c:\\users\\emrek\\anaconda3\\lib\\site-packages (from matplotlib->fastai) (0.11.0)\n",
      "Requirement already satisfied: kiwisolver>=1.0.1 in c:\\users\\emrek\\anaconda3\\lib\\site-packages (from matplotlib->fastai) (1.3.2)\n",
      "Requirement already satisfied: six>=1.5 in c:\\users\\emrek\\anaconda3\\lib\\site-packages (from python-dateutil>=2.7->matplotlib->fastai) (1.16.0)\n",
      "Requirement already satisfied: pytz>=2020.1 in c:\\users\\emrek\\anaconda3\\lib\\site-packages (from pandas->fastai) (2021.3)\n",
      "Requirement already satisfied: joblib>=1.0.0 in c:\\users\\emrek\\anaconda3\\lib\\site-packages (from scikit-learn->fastai) (1.1.0)\n",
      "Requirement already satisfied: threadpoolctl>=2.0.0 in c:\\users\\emrek\\anaconda3\\lib\\site-packages (from scikit-learn->fastai) (2.2.0)\n"
     ]
    }
   ],
   "source": [
    "!pip install fastai"
   ]
  },
  {
   "cell_type": "code",
   "execution_count": 2,
   "id": "f085e9b0",
   "metadata": {},
   "outputs": [],
   "source": [
    "import matplotlib.pyplot as plt\n",
    "%matplotlib inline\n",
    "import numpy as np\n",
    "import seaborn as sns\n",
    "import cv2\n",
    "import os\n",
    "import PIL\n",
    "import pathlib\n",
    "import tensorflow as tf\n",
    "\n",
    "from tensorflow import keras\n",
    "from tensorflow.keras import layers\n",
    "from tensorflow.keras.models import Sequential\n",
    "\n",
    "import warnings\n",
    "warnings.filterwarnings(\"ignore\")\n",
    "from matplotlib.pyplot import figure"
   ]
  },
  {
   "cell_type": "code",
   "execution_count": 3,
   "id": "1f55da18",
   "metadata": {},
   "outputs": [],
   "source": [
    "data_dir = pathlib.Path(r'C:\\Users\\emrek\\yapay zeka\\homeworks\\Project Based Learning Level 2\\Image Classification with CNN for Malaria Data\\cell_images\\cell_images')"
   ]
  },
  {
   "cell_type": "code",
   "execution_count": 4,
   "id": "08a9b35f",
   "metadata": {},
   "outputs": [
    {
     "name": "stdout",
     "output_type": "stream",
     "text": [
      "26186\n"
     ]
    }
   ],
   "source": [
    "image_count = len(list(data_dir.glob('*/*.png')))\n",
    "print(image_count)"
   ]
  },
  {
   "cell_type": "code",
   "execution_count": 5,
   "id": "7dbb7db1",
   "metadata": {},
   "outputs": [
    {
     "data": {
      "image/png": "[encoded data removed]",
      "text/plain": [
       "<PIL.PngImagePlugin.PngImageFile image mode=RGB size=142x148 at 0x23689B13940>"
      ]
     },
     "execution_count": 5,
     "metadata": {},
     "output_type": "execute_result"
    }
   ],
   "source": [
    "parasitized = list(data_dir.glob('Parasitized/*'))\n",
    "PIL.Image.open(str(parasitized[0]))"
   ]
  },
  {
   "cell_type": "code",
   "execution_count": 6,
   "id": "e23b4de6",
   "metadata": {},
   "outputs": [
    {
     "data": {
      "image/png": "[encoded data removed]",
      "text/plain": [
       "<PIL.PngImagePlugin.PngImageFile image mode=RGB size=160x139 at 0x23698811AC0>"
      ]
     },
     "execution_count": 6,
     "metadata": {},
     "output_type": "execute_result"
    }
   ],
   "source": [
    "uninfected = list(data_dir.glob('Uninfected/*'))\n",
    "PIL.Image.open(str(uninfected[0]))"
   ]
  },
  {
   "cell_type": "code",
   "execution_count": 7,
   "id": "b30e7341",
   "metadata": {},
   "outputs": [
    {
     "name": "stdout",
     "output_type": "stream",
     "text": [
      "Found 26186 files belonging to 2 classes.\n",
      "Using 20949 files for training.\n"
     ]
    }
   ],
   "source": [
    "batch_size = 128\n",
    "img_height = 150\n",
    "img_width = 150\n",
    "\n",
    "train_ds = tf.keras.utils.image_dataset_from_directory(\n",
    "  data_dir,\n",
    "  validation_split=0.2,\n",
    "  subset=\"training\",\n",
    "  seed=123,\n",
    "  image_size=(img_height, img_width),\n",
    "  batch_size=batch_size)"
   ]
  },
  {
   "cell_type": "code",
   "execution_count": 8,
   "id": "83e70250",
   "metadata": {},
   "outputs": [
    {
     "name": "stdout",
     "output_type": "stream",
     "text": [
      "Found 26186 files belonging to 2 classes.\n",
      "Using 5237 files for validation.\n"
     ]
    }
   ],
   "source": [
    "val_ds = tf.keras.utils.image_dataset_from_directory(\n",
    "  data_dir,\n",
    "  validation_split=0.2,\n",
    "  subset=\"validation\",\n",
    "  seed=123,\n",
    "  image_size=(img_height, img_width),\n",
    "  batch_size=batch_size)"
   ]
  },
  {
   "cell_type": "code",
   "execution_count": 9,
   "id": "3057752f",
   "metadata": {},
   "outputs": [
    {
     "name": "stdout",
     "output_type": "stream",
     "text": [
      "['Parasitized', 'Uninfected']\n"
     ]
    }
   ],
   "source": [
    "class_names = train_ds.class_names\n",
    "print(class_names)\n",
    "\n",
    "AUTOTUNE = tf.data.AUTOTUNE\n",
    "\n",
    "train_ds = train_ds.cache().shuffle(1000).prefetch(buffer_size=AUTOTUNE)\n",
    "val_ds = val_ds.cache().prefetch(buffer_size=AUTOTUNE)"
   ]
  },
  {
   "cell_type": "code",
   "execution_count": 10,
   "id": "3e912adb",
   "metadata": {},
   "outputs": [
    {
     "data": {
      "text/plain": [
       "<bound method Model.summary of <keras.engine.sequential.Sequential object at 0x00000236982E29A0>>"
      ]
     },
     "execution_count": 10,
     "metadata": {},
     "output_type": "execute_result"
    }
   ],
   "source": [
    "num_classes = len(class_names)\n",
    "\n",
    "model = Sequential([\n",
    "  layers.Rescaling(1./255, input_shape=(img_height, img_width, 3)),\n",
    "  layers.Conv2D(16, 3, padding='same', activation='relu'),\n",
    "  layers.MaxPooling2D(),\n",
    "  layers.Conv2D(32, 3, padding='same', activation='relu'),\n",
    "  layers.MaxPooling2D(),\n",
    "  layers.Dropout(0.2),\n",
    "  layers.Conv2D(64, 3, padding='same', activation='relu'),\n",
    "  layers.MaxPooling2D(),\n",
    "  layers.Flatten(),\n",
    "  layers.Dropout(0.2),\n",
    "  layers.Dense(128, activation='relu'),\n",
    "  layers.Dense(1, activation = 'sigmoid')\n",
    "])\n",
    "\n",
    "model.compile(optimizer='adam',\n",
    "              loss='binary_crossentropy',metrics=['accuracy'])\n",
    "model.summary"
   ]
  },
  {
   "cell_type": "code",
   "execution_count": 11,
   "id": "0e1bdf13",
   "metadata": {},
   "outputs": [
    {
     "name": "stdout",
     "output_type": "stream",
     "text": [
      "Epoch 1/10\n",
      "164/164 [==============================] - 311s 2s/step - loss: 0.6231 - accuracy: 0.6657 - val_loss: 0.4677 - val_accuracy: 0.8255\n",
      "Epoch 2/10\n",
      "164/164 [==============================] - 261s 2s/step - loss: 0.2841 - accuracy: 0.9079 - val_loss: 0.2190 - val_accuracy: 0.9362\n",
      "Epoch 3/10\n",
      "164/164 [==============================] - 222s 1s/step - loss: 0.1876 - accuracy: 0.9382 - val_loss: 0.1747 - val_accuracy: 0.9452\n",
      "Epoch 4/10\n",
      "164/164 [==============================] - 222s 1s/step - loss: 0.1630 - accuracy: 0.9474 - val_loss: 0.1629 - val_accuracy: 0.9483\n",
      "Epoch 5/10\n",
      "164/164 [==============================] - 222s 1s/step - loss: 0.1385 - accuracy: 0.9540 - val_loss: 0.1599 - val_accuracy: 0.9507\n",
      "Epoch 6/10\n",
      "164/164 [==============================] - 225s 1s/step - loss: 0.1276 - accuracy: 0.9558 - val_loss: 0.1486 - val_accuracy: 0.9513\n",
      "Epoch 7/10\n",
      "164/164 [==============================] - 222s 1s/step - loss: 0.1148 - accuracy: 0.9603 - val_loss: 0.1488 - val_accuracy: 0.9526\n",
      "Epoch 8/10\n",
      "164/164 [==============================] - 222s 1s/step - loss: 0.1013 - accuracy: 0.9633 - val_loss: 0.1498 - val_accuracy: 0.9496\n",
      "Epoch 9/10\n",
      "164/164 [==============================] - 222s 1s/step - loss: 0.0866 - accuracy: 0.9687 - val_loss: 0.1556 - val_accuracy: 0.9532\n",
      "Epoch 10/10\n",
      "164/164 [==============================] - 222s 1s/step - loss: 0.0718 - accuracy: 0.9743 - val_loss: 0.1558 - val_accuracy: 0.9544\n"
     ]
    },
    {
     "data": {
      "text/plain": [
       "<keras.callbacks.History at 0x23699b33d60>"
      ]
     },
     "execution_count": 11,
     "metadata": {},
     "output_type": "execute_result"
    }
   ],
   "source": [
    "model.fit(train_ds, validation_data=val_ds,epochs=10, verbose=1)"
   ]
  }
 ],
 "metadata": {
  "kernelspec": {
   "display_name": "Python 3 (ipykernel)",
   "language": "python",
   "name": "python3"
  },
  "language_info": {
   "codemirror_mode": {
    "name": "ipython",
    "version": 3
   },
   "file_extension": ".py",
   "mimetype": "text/x-python",
   "name": "python",
   "nbconvert_exporter": "python",
   "pygments_lexer": "ipython3",
   "version": "3.9.12"
  }
 },
 "nbformat": 4,
 "nbformat_minor": 5
}
